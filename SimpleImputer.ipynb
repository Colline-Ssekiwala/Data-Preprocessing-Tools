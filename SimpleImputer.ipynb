{
  "nbformat": 4,
  "nbformat_minor": 0,
  "metadata": {
    "colab": {
      "provenance": [],
      "authorship_tag": "ABX9TyOwUa4N0SmdKrba+hkFLjhZ"
    },
    "kernelspec": {
      "name": "python3",
      "display_name": "Python 3"
    },
    "language_info": {
      "name": "python"
    }
  },
  "cells": [
    {
      "cell_type": "code",
      "execution_count": 2,
      "metadata": {
        "id": "pUGerjKeij2K"
      },
      "outputs": [],
      "source": [
        "#Importing the necessary libraries\n",
        "import numpy as np\n",
        "import pandas as pd\n",
        "from sklearn.impute import SimpleImputer"
      ]
    },
    {
      "cell_type": "code",
      "source": [
        "# Load the dataset\n",
        "df = pd.read_csv('pima-indians-diabetes.csv')"
      ],
      "metadata": {
        "id": "c1DhmyIXjR7_"
      },
      "execution_count": null,
      "outputs": []
    },
    {
      "cell_type": "code",
      "source": [
        "# Identify missing data (assumes that missing data is represented as NaN)\n",
        "missing_data = df.isnull().sum()"
      ],
      "metadata": {
        "id": "eMRO1TMGjaFH"
      },
      "execution_count": null,
      "outputs": []
    },
    {
      "cell_type": "code",
      "source": [
        "# Print the number of missing entries in each column\n",
        "print(\"Missing data: \\n\", missing_data)"
      ],
      "metadata": {
        "id": "txwqTAS-kZVe"
      },
      "execution_count": null,
      "outputs": []
    },
    {
      "cell_type": "code",
      "source": [
        "# Configure an instance of the SimpleImputer class\n",
        "imputer = SimpleImputer(missing_values= np.nan, strategy='mean')"
      ],
      "metadata": {
        "id": "v2r1UgSukaYg"
      },
      "execution_count": null,
      "outputs": []
    },
    {
      "cell_type": "code",
      "source": [
        "# Fit the imputer on the DataFrame\n",
        "imputer.fit(df)"
      ],
      "metadata": {
        "id": "mT4fZSqckwpW"
      },
      "execution_count": null,
      "outputs": []
    },
    {
      "cell_type": "code",
      "source": [
        "# Apply the transform to the DataFrame\n",
        "df_imputed = imputer.transform(df)"
      ],
      "metadata": {
        "id": "WS5mkL2Jk2II"
      },
      "execution_count": null,
      "outputs": []
    },
    {
      "cell_type": "code",
      "source": [
        "#Print your updated matrix of features\n",
        "print(\"Updated matrix of features: \\n\", df_imputed)"
      ],
      "metadata": {
        "id": "HEjCDMkflb4s"
      },
      "execution_count": null,
      "outputs": []
    }
  ]
}